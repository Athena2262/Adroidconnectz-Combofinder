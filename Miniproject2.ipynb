{
  "nbformat": 4,
  "nbformat_minor": 0,
  "metadata": {
    "colab": {
      "provenance": [],
      "authorship_tag": "ABX9TyN5M7RqJHU1JEJ0Q5sO7+5q",
      "include_colab_link": true
    },
    "kernelspec": {
      "name": "python3",
      "display_name": "Python 3"
    },
    "language_info": {
      "name": "python"
    }
  },
  "cells": [
    {
      "cell_type": "markdown",
      "metadata": {
        "id": "view-in-github",
        "colab_type": "text"
      },
      "source": [
        "<a href=\"https://colab.research.google.com/github/Athena2262/Adroidconnectz-Combofinder/blob/main/Miniproject2.ipynb\" target=\"_parent\"><img src=\"https://colab.research.google.com/assets/colab-badge.svg\" alt=\"Open In Colab\"/></a>"
      ]
    },
    {
      "cell_type": "markdown",
      "source": [
        "COMBOFINDER"
      ],
      "metadata": {
        "id": "aeOS9ndqtlRm"
      }
    },
    {
      "cell_type": "code",
      "source": [
        "from itertools import combinations\n",
        "\n",
        "def find_combinations(lst):\n",
        "    result = []\n",
        "    for r in range(1, len(lst) + 1):\n",
        "        combinations_list = list(combinations(lst, r))\n",
        "        result.extend(combinations_list)\n",
        "    return result\n",
        "\n",
        "# Test the function\n",
        "my_list = [\"a\", \"b\", \"c\"]\n",
        "combinations = find_combinations(my_list)\n",
        "for combo in combinations:\n",
        "    print(combo)\n"
      ],
      "metadata": {
        "colab": {
          "base_uri": "https://localhost:8080/"
        },
        "id": "VIgfRtnLttsN",
        "outputId": "83f87c8a-a1bb-4163-e047-86213be4ccc9"
      },
      "execution_count": null,
      "outputs": [
        {
          "output_type": "stream",
          "name": "stdout",
          "text": [
            "('a',)\n",
            "('b',)\n",
            "('c',)\n",
            "('a', 'b')\n",
            "('a', 'c')\n",
            "('b', 'c')\n",
            "('a', 'b', 'c')\n"
          ]
        }
      ]
    },
    {
      "cell_type": "code",
      "source": [
        "from itertools import combinations\n",
        "\n",
        "def find_combinations(lst):\n",
        "    result = []\n",
        "    for r in range(1, len(lst) + 1):\n",
        "        combinations_list = list(combinations(lst, r))\n",
        "        result.extend(combinations_list)\n",
        "    return result\n",
        "\n",
        "# Test the function\n",
        "my_list = [\"1\", \"4\", \"5\"]\n",
        "combinations = find_combinations(my_list)\n",
        "for combo in combinations:\n",
        "    print(combo)\n"
      ],
      "metadata": {
        "colab": {
          "base_uri": "https://localhost:8080/"
        },
        "id": "f_YbdwBMt0tb",
        "outputId": "bb9c54c3-4478-4dc0-abb4-dd5cccfb4fb1"
      },
      "execution_count": null,
      "outputs": [
        {
          "output_type": "stream",
          "name": "stdout",
          "text": [
            "('1',)\n",
            "('4',)\n",
            "('5',)\n",
            "('1', '4')\n",
            "('1', '5')\n",
            "('4', '5')\n",
            "('1', '4', '5')\n"
          ]
        }
      ]
    }
  ]
}